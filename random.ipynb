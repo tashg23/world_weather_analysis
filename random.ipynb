{
 "cells": [
  {
   "cell_type": "code",
   "execution_count": 2,
   "metadata": {},
   "outputs": [],
   "source": [
    "# Import modules \n",
    "import random "
   ]
  },
  {
   "cell_type": "code",
   "execution_count": 3,
   "metadata": {},
   "outputs": [
    {
     "data": {
      "text/plain": [
       "-67"
      ]
     },
     "execution_count": 3,
     "metadata": {},
     "output_type": "execute_result"
    }
   ],
   "source": [
    "# Returns only 1 integer between the specified range\n",
    "random.randint(-90, 90)"
   ]
  },
  {
   "cell_type": "code",
   "execution_count": 4,
   "metadata": {},
   "outputs": [
    {
     "data": {
      "text/plain": [
       "0.32730748161234313"
      ]
     },
     "execution_count": 4,
     "metadata": {},
     "output_type": "execute_result"
    }
   ],
   "source": [
    "# Returns single float between 0 and 1.0\n",
    "random.random()"
   ]
  },
  {
   "cell_type": "code",
   "execution_count": 5,
   "metadata": {},
   "outputs": [
    {
     "data": {
      "text/plain": [
       "10.196912641322175"
      ]
     },
     "execution_count": 5,
     "metadata": {},
     "output_type": "execute_result"
    }
   ],
   "source": [
    "random_number = random.randint(-90, 89) + random.random()\n",
    "random_number"
   ]
  },
  {
   "cell_type": "code",
   "execution_count": 7,
   "metadata": {},
   "outputs": [
    {
     "data": {
      "text/plain": [
       "[58.798395055634714,\n",
       " -82.89229315454101,\n",
       " 63.20670885703901,\n",
       " 80.25512726544882,\n",
       " -7.642841691131054,\n",
       " -71.1692940349509,\n",
       " 59.442549317727384,\n",
       " -22.790281303677144,\n",
       " 73.00205350096643,\n",
       " 89.4600413018662]"
      ]
     },
     "execution_count": 7,
     "metadata": {},
     "output_type": "execute_result"
    }
   ],
   "source": [
    "# Initialize a variable starting at 1 to create 10 random numbers \n",
    "x = 1\n",
    "#Initialize an empty list to hold the 10 latitudes \n",
    "latitudes = []\n",
    "# When x = 1, create random latitude, add it to latitudes list, then add 1 to x. Second loop: x = 2, generate random latitude, add it to list, add 1 to x. \n",
    "# Repeat until you've generated 10 numbers in your latitude list. \n",
    "while x < 11: \n",
    "    random_lat = random.randint(-90, 89) + random.random() \n",
    "    latitudes.append(random_lat)\n",
    "    x+= 1 \n",
    "latitudes\n"
   ]
  },
  {
   "cell_type": "code",
   "execution_count": 8,
   "metadata": {},
   "outputs": [
    {
     "data": {
      "text/plain": [
       "-32"
      ]
     },
     "execution_count": 8,
     "metadata": {},
     "output_type": "execute_result"
    }
   ],
   "source": [
    "random.randrange (-90, 90, step = 1)"
   ]
  },
  {
   "cell_type": "code",
   "execution_count": 9,
   "metadata": {},
   "outputs": [
    {
     "data": {
      "text/plain": [
       "-27"
      ]
     },
     "execution_count": 9,
     "metadata": {},
     "output_type": "execute_result"
    }
   ],
   "source": [
    "random.randrange(-90, 90, step = 3)"
   ]
  },
  {
   "cell_type": "code",
   "execution_count": 10,
   "metadata": {},
   "outputs": [
    {
     "data": {
      "text/plain": [
       "-50.365904542303475"
      ]
     },
     "execution_count": 10,
     "metadata": {},
     "output_type": "execute_result"
    }
   ],
   "source": [
    "random.uniform(-90, 90)"
   ]
  },
  {
   "cell_type": "code",
   "execution_count": 11,
   "metadata": {},
   "outputs": [],
   "source": [
    "import numpy as np "
   ]
  },
  {
   "cell_type": "code",
   "execution_count": 12,
   "metadata": {},
   "outputs": [
    {
     "data": {
      "text/plain": [
       "-3.4097786933009644"
      ]
     },
     "execution_count": 12,
     "metadata": {},
     "output_type": "execute_result"
    }
   ],
   "source": [
    "np.random.uniform(-90, 90)"
   ]
  },
  {
   "cell_type": "code",
   "execution_count": 13,
   "metadata": {},
   "outputs": [
    {
     "data": {
      "text/plain": [
       "array([-34.04855274,  24.59516698,  -9.74767471, -50.67791071,\n",
       "       -51.2356675 ,  25.76775106,  -8.96877237,  43.73308285,\n",
       "       -45.82830197, -43.57121839, -41.41261512, -16.25946729,\n",
       "        69.72784332,  10.02284356, -10.31170774,  59.23085057,\n",
       "       -57.52266974, -58.14643341,  33.66791434, -77.83134497,\n",
       "       -42.25332328,  -2.90074959, -29.42449729,  -0.53790038,\n",
       "       -85.34740641,  59.52763252,  46.26315742, -49.42677638,\n",
       "       -74.97207157,  -0.74575272, -23.15036905,  -8.62574   ,\n",
       "        76.08217857,  -1.30924829,  -2.62468255,  22.6439641 ,\n",
       "        70.22972461, -77.43846461,  65.81180704,   1.49701492,\n",
       "       -15.41238638, -81.96706873, -64.19146898, -47.30250877,\n",
       "        -7.05329967,  40.55196942,  55.70556886,  69.56277129,\n",
       "       -39.28613524, -48.70669772])"
      ]
     },
     "execution_count": 13,
     "metadata": {},
     "output_type": "execute_result"
    }
   ],
   "source": [
    "np.random.uniform(-90, 90, size= 50)"
   ]
  },
  {
   "cell_type": "code",
   "execution_count": 14,
   "metadata": {},
   "outputs": [],
   "source": [
    "import timeit"
   ]
  },
  {
   "cell_type": "code",
   "execution_count": 15,
   "metadata": {},
   "outputs": [
    {
     "name": "stdout",
     "output_type": "stream",
     "text": [
      "17.1 µs ± 1.25 µs per loop (mean ± std. dev. of 7 runs, 100000 loops each)\n"
     ]
    }
   ],
   "source": [
    "%timeit np.random.uniform(-90, 90, size = 1500)"
   ]
  },
  {
   "cell_type": "code",
   "execution_count": 19,
   "metadata": {},
   "outputs": [
    {
     "name": "stdout",
     "output_type": "stream",
     "text": [
      "1.94 ms ± 197 µs per loop (mean ± std. dev. of 7 runs, 100 loops each)\n"
     ]
    }
   ],
   "source": [
    "def latitudes(size): \n",
    "    latitudes = []\n",
    "    x = 0 \n",
    "    while x < (size): \n",
    "        random_lat = random.randint(-90, 90) + random.random()\n",
    "        latitudes.append(random_lat)\n",
    "        x+=1 \n",
    "    return latitudes \n",
    "# Call the function with 1500 \n",
    "%timeit latitudes(1500)"
   ]
  },
  {
   "cell_type": "code",
   "execution_count": null,
   "metadata": {},
   "outputs": [],
   "source": [
    "# Skill drill \n",
    "latitudes = []\n",
    "for i in latitudes: \n",
    "\n",
    "\n",
    "    return latitudes \n",
    "# Call the function with 1500 \n",
    "%timeit latitudes(1500)"
   ]
  }
 ],
 "metadata": {
  "kernelspec": {
   "display_name": "PythonData",
   "language": "python",
   "name": "python3"
  },
  "language_info": {
   "codemirror_mode": {
    "name": "ipython",
    "version": 3
   },
   "file_extension": ".py",
   "mimetype": "text/x-python",
   "name": "python",
   "nbconvert_exporter": "python",
   "pygments_lexer": "ipython3",
   "version": "3.7.15 (default, Nov 24 2022, 18:44:54) [MSC v.1916 64 bit (AMD64)]"
  },
  "orig_nbformat": 4,
  "vscode": {
   "interpreter": {
    "hash": "999479cd471eff17d58257a33ebc8b38f4072badda0528ccc2a20f13db0c2719"
   }
  }
 },
 "nbformat": 4,
 "nbformat_minor": 2
}
